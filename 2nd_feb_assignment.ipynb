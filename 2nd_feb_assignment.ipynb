{
 "cells": [
  {
   "cell_type": "code",
   "execution_count": 27,
   "id": "b69437a5-c7ff-414d-ae4f-9af6fd625d57",
   "metadata": {},
   "outputs": [
    {
     "name": "stdout",
     "output_type": "stream",
     "text": [
      "sum of first 10 natural:  55\n",
      "product of first 10 natural:  3628800\n",
      "sum of th first 10 natural numbers using while loop: 55\n",
      "product of th first 10 natural numbers using while loop: 3628800\n"
     ]
    }
   ],
   "source": [
    "\"\"\"Q1. Explain with an example each when to use a for loop and a while loop.\n",
    "\n",
    "Ans. \n",
    "\n",
    "For Loop: Use a for loop when you know the loop should execute n times.\n",
    "\n",
    "While Loop: Use a while loop for reading a file into variable & when asking for user input.\"\"\"\n",
    "\n",
    "\n",
    "\n",
    "\"\"\"Q2. Write a python program to print the sum and product of the first 10 natural numbers using for\n",
    "and while loop.\"\"\"\n",
    "\n",
    "\n",
    "#Ans.\n",
    "\n",
    "#Sum and product using for loop\n",
    "\n",
    "\n",
    "sum = 0\n",
    "\n",
    "for i in range(1,11):\n",
    "    sum = sum + i\n",
    "    \n",
    "print(\"sum of first 10 natural: \", sum)\n",
    "\n",
    "\n",
    "product = 1\n",
    "\n",
    "for i in range(1,11):\n",
    "    product = product * i\n",
    "    \n",
    "print(\"product of first 10 natural: \", product)\n",
    "\n",
    "#Sum and product using for while loop\n",
    "\n",
    "i = 1\n",
    "sum_of_it = 0\n",
    "product_result = 1\n",
    "\n",
    "while i<= 10:\n",
    "    sum_of_it = sum_of_it + i\n",
    "    product_result = product_result * i\n",
    "    i=i+1\n",
    "    \n",
    "print(\"sum of th first 10 natural numbers using while loop:\" ,sum_of_it)\n",
    "print(\"product of th first 10 natural numbers using while loop:\" ,product_result)    \n"
   ]
  },
  {
   "cell_type": "code",
   "execution_count": 35,
   "id": "19c1e8d0-d761-435e-9e6e-d69daf1deb36",
   "metadata": {},
   "outputs": [
    {
     "name": "stdin",
     "output_type": "stream",
     "text": [
      "enter the units consumed whole month:  45\n"
     ]
    },
    {
     "name": "stdout",
     "output_type": "stream",
     "text": [
      "Bill: 202.5\n"
     ]
    }
   ],
   "source": [
    "# Q3. Create a python program to compute the electricity bill for a household.\n",
    "# The per-unit charges in rupees are as follows: For the first 100 units, the user will be charged Rs. 4.5 per\n",
    "# unit, for the next 100 units, the user will be charged Rs. 6 per unit, and for the next 100 units, the user will\n",
    "# be charged Rs. 10 per unit, After 300 units and above the user will be charged Rs. 20 per unit.\n",
    "\n",
    "\n",
    "\n",
    "unit = int(input(\"enter the units consumed whole month: \"))\n",
    "\n",
    "if unit <= 100:\n",
    "    bill = unit * 4.5\n",
    "    print(\"Bill:\", bill)\n",
    "elif unit <= 200:\n",
    "    bill = 100 * 4.5 + (unit - 100) * 6\n",
    "    print(\"Bill:\", bill)\n",
    "elif unit <= 300:\n",
    "    bill = 100 * 4.5 + 100 * 6 + (unit - 200) * 10\n",
    "    print(\"Bill:\", bill)\n",
    "else:\n",
    "    bill = 100 * 4.5 + 100 * 6 + 100 * 10 + (unit - 300) * 20\n",
    "    print(\"Bill:\", bill)\n",
    "          \n",
    "    "
   ]
  },
  {
   "cell_type": "code",
   "execution_count": 43,
   "id": "e3177037-ad84-4ad1-9e80-c6b194db1e0e",
   "metadata": {},
   "outputs": [
    {
     "name": "stdout",
     "output_type": "stream",
     "text": [
      "[2, 4, 5, 6, 8, 10, 12, 14, 15, 16, 18, 20, 22, 24, 25, 26, 28, 30, 32, 34, 35, 36, 38, 40, 42, 44, 45, 46, 48, 50, 52, 54, 55, 56, 58, 60, 62, 64, 65, 66, 68, 70, 72, 74, 75, 76, 78, 80, 82, 84, 85, 86, 88, 90, 92, 94, 95, 96, 98, 100]\n",
      "[2, 4, 5, 6, 8, 10, 12, 14, 15, 16, 18, 20, 22, 24, 25, 26, 28, 30, 32, 34, 35, 36, 38, 40, 42, 44, 45, 46, 48, 50, 52, 54, 55, 56, 58, 60, 62, 64, 65, 66, 68, 70, 72, 74, 75, 76, 78, 80, 82, 84, 85, 86, 88, 90, 92, 94, 95, 96, 98, 100]\n"
     ]
    }
   ],
   "source": [
    "# Q4. Create a list of numbers from 1 to 100. Use for loop and while loop to calculate the cube of each\n",
    "# number and if the cube of that number is divisible by 4 or 5 then append that number in a list and print\n",
    "# that list.\n",
    "\n",
    "# Using for loop\n",
    "\n",
    "list = []\n",
    "\n",
    "for i in range(1,101):\n",
    "    cube = i**3\n",
    "    if cube %  4 == 0 or cube % 5 == 0:\n",
    "        list.append(i)\n",
    "print(list)\n",
    "\n",
    "\n",
    "# Using a while loop\n",
    "\n",
    "cubes_divisible_by_4_or_5 = []\n",
    "i = 1\n",
    "\n",
    "while i <= 100:\n",
    "    cube = i ** 3\n",
    "    if cube % 4 == 0 or cube % 5 == 0:\n",
    "        cubes_divisible_by_4_or_5.append(i)\n",
    "    i += 1\n",
    "\n",
    "print(cubes_divisible_by_4_or_5)\n",
    "    "
   ]
  },
  {
   "cell_type": "code",
   "execution_count": 44,
   "id": "bc0c7d7d-d9a3-48d0-afcb-6fb2b49204a6",
   "metadata": {},
   "outputs": [
    {
     "name": "stdout",
     "output_type": "stream",
     "text": [
      "Number of vowels in the string: 12\n"
     ]
    }
   ],
   "source": [
    "# Q5. Write a program to filter count vowels in the below-given string.\n",
    "# string = \"I want to become a data scientist\"\n",
    "\n",
    "# Input string\n",
    "string = \"I want to become a data scientist\"\n",
    "\n",
    "# Convert the string to lowercase to make it case-insensitive\n",
    "string = string.lower()\n",
    "\n",
    "# Initialize a counter for vowels\n",
    "vowel_count = 0\n",
    "\n",
    "# Define a set of vowels\n",
    "vowels = {'a', 'e', 'i', 'o', 'u'}\n",
    "\n",
    "# Iterate through each character in the string\n",
    "for char in string:\n",
    "    if char in vowels:\n",
    "        vowel_count += 1\n",
    "\n",
    "# Print the count of vowels\n",
    "print(\"Number of vowels in the string:\", vowel_count)"
   ]
  },
  {
   "cell_type": "code",
   "execution_count": null,
   "id": "34d93e01-fdd2-4092-8c39-b77ab23fef3d",
   "metadata": {},
   "outputs": [],
   "source": []
  }
 ],
 "metadata": {
  "kernelspec": {
   "display_name": "Python 3 (ipykernel)",
   "language": "python",
   "name": "python3"
  },
  "language_info": {
   "codemirror_mode": {
    "name": "ipython",
    "version": 3
   },
   "file_extension": ".py",
   "mimetype": "text/x-python",
   "name": "python",
   "nbconvert_exporter": "python",
   "pygments_lexer": "ipython3",
   "version": "3.10.8"
  }
 },
 "nbformat": 4,
 "nbformat_minor": 5
}
